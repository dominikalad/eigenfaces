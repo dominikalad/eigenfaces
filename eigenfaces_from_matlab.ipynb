{
 "cells": [
  {
   "cell_type": "code",
   "execution_count": 1,
   "metadata": {},
   "outputs": [],
   "source": [
    "import pandas as pd \n",
    "from matplotlib import pyplot as plt\n",
    "import os\n",
    "import cv2\n",
    "import numpy as np\n",
    "from matplotlib.pyplot import figure\n",
    "import scipy.io\n",
    "from  scipy.interpolate import interp1d\n",
    "plt.rcParams['figure.figsize'] == [10,10]\n",
    "plt.rcParams.update({'font.size' : 18})"
   ]
  },
  {
   "cell_type": "code",
   "execution_count": 2,
   "metadata": {},
   "outputs": [],
   "source": [
    "face_codes = scipy.io.loadmat('face_codes.mat')\n",
    "ufaces = face_codes['ufaces']"
   ]
  },
  {
   "cell_type": "code",
   "execution_count": 3,
   "metadata": {},
   "outputs": [],
   "source": [
    "yalefaces = scipy.io.loadmat('yalefaces.mat')\n",
    "yalefaces = yalefaces['yalefaces']"
   ]
  },
  {
   "cell_type": "code",
   "execution_count": 4,
   "metadata": {},
   "outputs": [
    {
     "data": {
      "text/plain": [
       "(48, 42, 2414)"
      ]
     },
     "execution_count": 4,
     "metadata": {},
     "output_type": "execute_result"
    }
   ],
   "source": [
    "yalefaces.shape"
   ]
  },
  {
   "cell_type": "code",
   "execution_count": 9,
   "metadata": {},
   "outputs": [
    {
     "data": {
      "text/plain": [
       "array([[  1,   1,  64,   1,   5],\n",
       "       [  2,  65, 128,   2,   5],\n",
       "       [  3, 129, 192,   1,   5],\n",
       "       [  4, 193, 256,   1,   5],\n",
       "       [  5, 257, 320,   2,   6]], dtype=uint16)"
      ]
     },
     "execution_count": 9,
     "metadata": {},
     "output_type": "execute_result"
    }
   ],
   "source": [
    "ufaces[0:5]"
   ]
  },
  {
   "cell_type": "markdown",
   "metadata": {},
   "source": [
    "Change to python indexing"
   ]
  },
  {
   "cell_type": "code",
   "execution_count": 10,
   "metadata": {},
   "outputs": [],
   "source": [
    "ufaces_df = pd.DataFrame(data=ufaces, columns=['face_id', 'first_img', 'last_img', 'race', 'gender'])"
   ]
  },
  {
   "cell_type": "code",
   "execution_count": 11,
   "metadata": {},
   "outputs": [],
   "source": [
    "ufaces_df['face_id'] = ufaces_df['face_id'].apply(lambda x: x-1)\n",
    "ufaces_df['first_img'] = ufaces_df['first_img'].apply(lambda x: x-1)\n",
    "ufaces_df['last_img'] = ufaces_df['last_img'].apply(lambda x: x-1)\n"
   ]
  },
  {
   "cell_type": "code",
   "execution_count": 14,
   "metadata": {},
   "outputs": [],
   "source": [
    "ufaces = np.array(ufaces_df)"
   ]
  },
  {
   "cell_type": "code",
   "execution_count": 15,
   "metadata": {},
   "outputs": [
    {
     "data": {
      "text/plain": [
       "array([[  0,   0,  63,   1,   5],\n",
       "       [  1,  64, 127,   2,   5],\n",
       "       [  2, 128, 191,   1,   5],\n",
       "       [  3, 192, 255,   1,   5],\n",
       "       [  4, 256, 319,   2,   6]])"
      ]
     },
     "execution_count": 15,
     "metadata": {},
     "output_type": "execute_result"
    }
   ],
   "source": [
    "ufaces[0:5]"
   ]
  },
  {
   "cell_type": "code",
   "execution_count": 20,
   "metadata": {},
   "outputs": [
    {
     "data": {
      "text/plain": [
       "38"
      ]
     },
     "execution_count": 20,
     "metadata": {},
     "output_type": "execute_result"
    }
   ],
   "source": [
    "ufaces.shape[0]"
   ]
  },
  {
   "cell_type": "code",
   "execution_count": 128,
   "metadata": {},
   "outputs": [
    {
     "data": {
      "text/plain": [
       "63"
      ]
     },
     "execution_count": 128,
     "metadata": {},
     "output_type": "execute_result"
    }
   ],
   "source": [
    "191 - 128"
   ]
  },
  {
   "cell_type": "markdown",
   "metadata": {},
   "source": [
    "Get NN, RR, GG to create sublibraries"
   ]
  },
  {
   "cell_type": "code",
   "execution_count": 34,
   "metadata": {},
   "outputs": [],
   "source": [
    "NN = np.zeros((1,2414))\n",
    "RR = np.zeros((1,2414))\n",
    "GG = np.zeros((1,2414))\n",
    "\n",
    "for i in range(0, ufaces.shape[0]):\n",
    "    NN[0, ufaces[i,1]:ufaces[i,2]+1] = i\n",
    "    RR[0, ufaces[i,1]:ufaces[i,2]+1] = ufaces[i,3]\n",
    "    GG[0, ufaces[i,1]:ufaces[i,2]+1] = ufaces[i,4]\n",
    "\n",
    "NN = NN.squeeze()\n",
    "RR = RR.squeeze()\n",
    "GG = GG.squeeze()"
   ]
  },
  {
   "cell_type": "code",
   "execution_count": 139,
   "metadata": {},
   "outputs": [
    {
     "data": {
      "text/plain": [
       "60"
      ]
     },
     "execution_count": 139,
     "metadata": {},
     "output_type": "execute_result"
    }
   ],
   "source": [
    "np.count_nonzero(NN == 10)"
   ]
  },
  {
   "cell_type": "code",
   "execution_count": 50,
   "metadata": {},
   "outputs": [],
   "source": [
    "target_person = 13\n",
    "excluded_face = 26"
   ]
  },
  {
   "cell_type": "code",
   "execution_count": 62,
   "metadata": {},
   "outputs": [],
   "source": [
    "target_image = ufaces[target_person,1]"
   ]
  },
  {
   "cell_type": "code",
   "execution_count": 76,
   "metadata": {},
   "outputs": [
    {
     "data": {
      "text/plain": [
       "819"
      ]
     },
     "execution_count": 76,
     "metadata": {},
     "output_type": "execute_result"
    }
   ],
   "source": [
    "target_image # -1 than what in matlab - this is python indexing "
   ]
  },
  {
   "cell_type": "code",
   "execution_count": 127,
   "metadata": {},
   "outputs": [
    {
     "data": {
      "text/plain": [
       "(-0.5, 41.5, 47.5, -0.5)"
      ]
     },
     "execution_count": 127,
     "metadata": {},
     "output_type": "execute_result"
    },
    {
     "data": {
      "image/png": "[encoded data removed]",
      "text/plain": [
       "<Figure size 432x288 with 1 Axes>"
      ]
     },
     "metadata": {
      "needs_background": "light"
     },
     "output_type": "display_data"
    }
   ],
   "source": [
    "plt.imshow(yalefaces[:,:,819]).set_cmap('gray')\n",
    "plt.axis('off')"
   ]
  },
  {
   "cell_type": "code",
   "execution_count": 251,
   "metadata": {},
   "outputs": [],
   "source": [
    "C_minus_1_ind = np.where(np.logical_and(RR == 1, NN != excluded_face))\n",
    "C_minus_T_ind = np.where(np.logical_and(RR == 1, NN != target_person))"
   ]
  },
  {
   "cell_type": "code",
   "execution_count": 225,
   "metadata": {},
   "outputs": [
    {
     "data": {
      "text/plain": [
       "(1659,)"
      ]
     },
     "execution_count": 225,
     "metadata": {},
     "output_type": "execute_result"
    }
   ],
   "source": [
    "C_minus_1_ind[0].shape"
   ]
  },
  {
   "cell_type": "code",
   "execution_count": 226,
   "metadata": {},
   "outputs": [
    {
     "data": {
      "text/plain": [
       "(1660,)"
      ]
     },
     "execution_count": 226,
     "metadata": {},
     "output_type": "execute_result"
    }
   ],
   "source": [
    "C_minus_T_ind[0].shape"
   ]
  },
  {
   "cell_type": "code",
   "execution_count": 227,
   "metadata": {},
   "outputs": [
    {
     "data": {
      "text/plain": [
       "(array([   0,    1,    2, ..., 2411, 2412, 2413]),)"
      ]
     },
     "execution_count": 227,
     "metadata": {},
     "output_type": "execute_result"
    }
   ],
   "source": [
    "C_minus_T_ind"
   ]
  },
  {
   "cell_type": "code",
   "execution_count": 252,
   "metadata": {},
   "outputs": [],
   "source": [
    "LIB_C_minus_T = yalefaces[:,:,C_minus_T_ind].squeeze()\n",
    "LIB_C_minus_1 = yalefaces[:,:,C_minus_1_ind].squeeze()"
   ]
  },
  {
   "cell_type": "code",
   "execution_count": 253,
   "metadata": {},
   "outputs": [
    {
     "data": {
      "text/plain": [
       "(48, 42, 1660)"
      ]
     },
     "execution_count": 253,
     "metadata": {},
     "output_type": "execute_result"
    }
   ],
   "source": [
    "LIB_C_minus_T.shape"
   ]
  },
  {
   "cell_type": "code",
   "execution_count": 254,
   "metadata": {},
   "outputs": [
    {
     "data": {
      "text/plain": [
       "(48, 42, 1659)"
      ]
     },
     "execution_count": 254,
     "metadata": {},
     "output_type": "execute_result"
    }
   ],
   "source": [
    "LIB_C_minus_1.shape"
   ]
  },
  {
   "cell_type": "code",
   "execution_count": 443,
   "metadata": {},
   "outputs": [],
   "source": [
    "n = 430"
   ]
  },
  {
   "cell_type": "code",
   "execution_count": 444,
   "metadata": {},
   "outputs": [
    {
     "data": {
      "text/plain": [
       "(-0.5, 41.5, 47.5, -0.5)"
      ]
     },
     "execution_count": 444,
     "metadata": {},
     "output_type": "execute_result"
    },
    {
     "data": {
      "image/png": "[encoded data removed]",
      "text/plain": [
       "<Figure size 432x288 with 1 Axes>"
      ]
     },
     "metadata": {
      "needs_background": "light"
     },
     "output_type": "display_data"
    }
   ],
   "source": [
    "plt.imshow(LIB_C_minus_T[:,:,n]).set_cmap('gray')\n",
    "plt.axis('off')\n"
   ]
  },
  {
   "cell_type": "code",
   "execution_count": 445,
   "metadata": {},
   "outputs": [
    {
     "data": {
      "text/plain": [
       "(-0.5, 41.5, 47.5, -0.5)"
      ]
     },
     "execution_count": 445,
     "metadata": {},
     "output_type": "execute_result"
    },
    {
     "data": {
      "image/png": "[encoded data removed]",
      "text/plain": [
       "<Figure size 432x288 with 1 Axes>"
      ]
     },
     "metadata": {
      "needs_background": "light"
     },
     "output_type": "display_data"
    }
   ],
   "source": [
    "plt.imshow(LIB_C_minus_1[:,:,n]).set_cmap('gray')\n",
    "plt.axis('off')"
   ]
  },
  {
   "cell_type": "code",
   "execution_count": 206,
   "metadata": {},
   "outputs": [],
   "source": [
    "[h, w, n] = LIB_C_minus_T.shape"
   ]
  },
  {
   "cell_type": "code",
   "execution_count": 207,
   "metadata": {},
   "outputs": [],
   "source": [
    "cutoff = 100"
   ]
  },
  {
   "cell_type": "code",
   "execution_count": 208,
   "metadata": {},
   "outputs": [],
   "source": [
    "def reconstruct_face(C_FACES, target_image, cutoff):\n",
    "    [h, w, n] = C_FACES.shape\n",
    "    d = h * w\n",
    "    x = np.reshape(C_FACES, [d, n])\n",
    "    mean_matrix = x.mean(axis=1)\n",
    "    tiled_mean = np.tile(mean_matrix, (x.shape[1], 1))\n",
    "    tiled_mean = tiled_mean.T\n",
    "    Xtrain = x - tiled_mean\n",
    "    s = np.cov(Xtrain)\n",
    "    eigval, eigvec = np.linalg.eig(s)\n",
    "    eigval.sort()\n",
    "    eigval = eigval[::-1]\n",
    "    eigsum = sum(eigval)\n",
    "    eigvec = eigvec[::-1]\n",
    "\n",
    "    csum = 0\n",
    "    for i in range(0,d):\n",
    "        csum = csum + eigval[i]\n",
    "        tv = csum / eigsum\n",
    "        if tv > 0.95:\n",
    "            k95 = i\n",
    "            break\n",
    "\n",
    "    FACE = yalefaces[:,:,target_image]\n",
    "    FACE_reshaped = np.reshape(FACE, [1, 2016])\n",
    "    FACE_PROJECTED = np.matmul(FACE_reshaped, eigvec)\n",
    "    FACE_PROJECTED[cutoff:] = 0\n",
    "    FACE_RECONSTRUCTED = np.matmul(FACE_PROJECTED, eigvec.T)\n",
    "\n",
    "    return FACE_RECONSTRUCTED, eigvec, eigval, k95\n",
    "\n"
   ]
  },
  {
   "cell_type": "code",
   "execution_count": 209,
   "metadata": {},
   "outputs": [],
   "source": [
    "FACE_RECONSTRUCTED_T, eigvec_T, eigval_T, k95_T = reconstruct_face(LIB_C_minus_T, target_image, cutoff)\n",
    "FACE_RECONSTRUCTED_1, eigvec_1, eigval_1, k95_1 = reconstruct_face(LIB_C_minus_1, target_image, cutoff)"
   ]
  },
  {
   "cell_type": "code",
   "execution_count": 446,
   "metadata": {},
   "outputs": [
    {
     "name": "stderr",
     "output_type": "stream",
     "text": [
      "<ipython-input-446-83c962f07f05>:2: ComplexWarning: Casting complex values to real discards the imaginary part\n",
      "  plt.imshow(np.reshape(FACE_RECONSTRUCTED_1.astype(float), [h,w])).set_cmap('gray')\n"
     ]
    },
    {
     "data": {
      "image/png": "[encoded data removed]",
      "text/plain": [
       "<Figure size 432x288 with 1 Axes>"
      ]
     },
     "metadata": {
      "needs_background": "light"
     },
     "output_type": "display_data"
    }
   ],
   "source": [
    "[h, w, n] = LIB_C_minus_1.shape\n",
    "plt.imshow(np.reshape(FACE_RECONSTRUCTED_1.astype(float), [h,w])).set_cmap('gray')"
   ]
  },
  {
   "cell_type": "code",
   "execution_count": 447,
   "metadata": {},
   "outputs": [
    {
     "name": "stderr",
     "output_type": "stream",
     "text": [
      "<ipython-input-447-d5b90071ba0f>:2: ComplexWarning: Casting complex values to real discards the imaginary part\n",
      "  plt.imshow(np.reshape(FACE_RECONSTRUCTED_T.astype(float), [h,w])).set_cmap('gray')\n"
     ]
    },
    {
     "data": {
      "image/png": "[encoded data removed]",
      "text/plain": [
       "<Figure size 432x288 with 1 Axes>"
      ]
     },
     "metadata": {
      "needs_background": "light"
     },
     "output_type": "display_data"
    }
   ],
   "source": [
    "[h, w, n] = LIB_C_minus_T.shape\n",
    "plt.imshow(np.reshape(FACE_RECONSTRUCTED_T.astype(float), [h,w])).set_cmap('gray')"
   ]
  },
  {
   "cell_type": "code",
   "execution_count": null,
   "metadata": {},
   "outputs": [],
   "source": []
  }
 ],
 "metadata": {
  "interpreter": {
   "hash": "aee8b7b246df8f9039afb4144a1f6fd8d2ca17a180786b69acc140d282b71a49"
  },
  "kernelspec": {
   "display_name": "Python 3.9.9 64-bit",
   "language": "python",
   "name": "python3"
  },
  "language_info": {
   "codemirror_mode": {
    "name": "ipython",
    "version": 3
   },
   "file_extension": ".py",
   "mimetype": "text/x-python",
   "name": "python",
   "nbconvert_exporter": "python",
   "pygments_lexer": "ipython3",
   "version": "3.8.0"
  },
  "orig_nbformat": 4
 },
 "nbformat": 4,
 "nbformat_minor": 2
}
