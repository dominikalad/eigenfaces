{
 "cells": [
  {
   "cell_type": "code",
   "execution_count": 2,
   "metadata": {},
   "outputs": [],
   "source": [
    "import pandas as pd \n",
    "from matplotlib import pyplot as plt\n",
    "import os\n",
    "import cv2\n",
    "import numpy as np\n",
    "from matplotlib.pyplot import figure\n",
    "import scipy.io\n",
    "from  scipy.interpolate import interp1d"
   ]
  },
  {
   "cell_type": "markdown",
   "metadata": {},
   "source": [
    "## UPDATED DRFS"
   ]
  },
  {
   "cell_type": "code",
   "execution_count": 3,
   "metadata": {},
   "outputs": [],
   "source": [
    "face_codes = scipy.io.loadmat('face_codes.mat')\n",
    "ufaces = face_codes['ufaces']"
   ]
  },
  {
   "cell_type": "code",
   "execution_count": 4,
   "metadata": {},
   "outputs": [],
   "source": [
    "yalefaces = scipy.io.loadmat('yalefaces.mat')\n",
    "yalefaces = yalefaces['yalefaces']"
   ]
  },
  {
   "cell_type": "code",
   "execution_count": 5,
   "metadata": {},
   "outputs": [],
   "source": [
    "ufaces_df = pd.DataFrame(data=ufaces, columns=['face_id', 'first_img', 'last_img', 'race', 'gender'])"
   ]
  },
  {
   "cell_type": "code",
   "execution_count": 6,
   "metadata": {},
   "outputs": [],
   "source": [
    "ufaces_df['face_id'] = ufaces_df['face_id'].apply(lambda x: x-1)\n",
    "ufaces_df['first_img'] = ufaces_df['first_img'].apply(lambda x: x-1)\n",
    "ufaces_df['last_img'] = ufaces_df['last_img'].apply(lambda x: x-1)"
   ]
  },
  {
   "cell_type": "code",
   "execution_count": 7,
   "metadata": {},
   "outputs": [],
   "source": [
    "ufaces = np.array(ufaces_df)"
   ]
  },
  {
   "cell_type": "code",
   "execution_count": 8,
   "metadata": {},
   "outputs": [
    {
     "data": {
      "text/plain": [
       "array([[  0,   0,  63,   1,   5],\n",
       "       [  1,  64, 127,   2,   5],\n",
       "       [  2, 128, 191,   1,   5],\n",
       "       [  3, 192, 255,   1,   5],\n",
       "       [  4, 256, 319,   2,   6]])"
      ]
     },
     "execution_count": 8,
     "metadata": {},
     "output_type": "execute_result"
    }
   ],
   "source": [
    "ufaces[0:5]"
   ]
  },
  {
   "cell_type": "code",
   "execution_count": 9,
   "metadata": {},
   "outputs": [],
   "source": [
    "NN = np.zeros((1,2414))\n",
    "RR = np.zeros((1,2414))\n",
    "GG = np.zeros((1,2414))\n",
    "\n",
    "for i in range(0, ufaces.shape[0]):\n",
    "    NN[0, ufaces[i,1]:ufaces[i,2]+1] = i\n",
    "    RR[0, ufaces[i,1]:ufaces[i,2]+1] = ufaces[i,3]\n",
    "    GG[0, ufaces[i,1]:ufaces[i,2]+1] = ufaces[i,4]\n",
    "\n",
    "NN = NN.squeeze()\n",
    "RR = RR.squeeze()\n",
    "GG = GG.squeeze()"
   ]
  },
  {
   "cell_type": "code",
   "execution_count": 10,
   "metadata": {},
   "outputs": [
    {
     "data": {
      "text/plain": [
       "array([ 0.,  0.,  0., ..., 37., 37., 37.])"
      ]
     },
     "execution_count": 10,
     "metadata": {},
     "output_type": "execute_result"
    }
   ],
   "source": [
    "NN"
   ]
  },
  {
   "cell_type": "code",
   "execution_count": 11,
   "metadata": {},
   "outputs": [],
   "source": [
    "human_sim_C_faces = scipy.io.loadmat('human_sim_C_faces.mat')"
   ]
  },
  {
   "cell_type": "code",
   "execution_count": 12,
   "metadata": {},
   "outputs": [],
   "source": [
    "Present_Faces = human_sim_C_faces['Present_Faces']"
   ]
  },
  {
   "cell_type": "code",
   "execution_count": 13,
   "metadata": {},
   "outputs": [
    {
     "data": {
      "text/plain": [
       "array([[ 3],\n",
       "       [ 4],\n",
       "       [ 6],\n",
       "       [ 7],\n",
       "       [10],\n",
       "       [14],\n",
       "       [15],\n",
       "       [16],\n",
       "       [17],\n",
       "       [18]], dtype=uint8)"
      ]
     },
     "execution_count": 13,
     "metadata": {},
     "output_type": "execute_result"
    }
   ],
   "source": [
    "Present_Faces"
   ]
  },
  {
   "cell_type": "code",
   "execution_count": 14,
   "metadata": {},
   "outputs": [],
   "source": [
    "initial_target_person = Present_Faces[0,:] -1  #2\n",
    "initial_excluded_face = Present_Faces[1,:] -1 #3"
   ]
  },
  {
   "cell_type": "code",
   "execution_count": 15,
   "metadata": {},
   "outputs": [],
   "source": [
    "target_and_excluded = np.vstack((initial_target_person,initial_excluded_face)).T \n",
    "# target_and_excluded.size == (1, 2)"
   ]
  },
  {
   "cell_type": "code",
   "execution_count": 16,
   "metadata": {},
   "outputs": [
    {
     "data": {
      "text/plain": [
       "array([[2, 3]], dtype=uint8)"
      ]
     },
     "execution_count": 16,
     "metadata": {},
     "output_type": "execute_result"
    }
   ],
   "source": [
    "target_and_excluded"
   ]
  },
  {
   "cell_type": "code",
   "execution_count": 17,
   "metadata": {},
   "outputs": [],
   "source": [
    "cutoffs = np.arange(100,2000,200) # size == (10,)"
   ]
  },
  {
   "cell_type": "code",
   "execution_count": 18,
   "metadata": {},
   "outputs": [],
   "source": [
    "R2_RF_cmt = np.zeros((cutoffs.shape[0], 2)) # R2_RF_cmt.shape == (10, 2)"
   ]
  },
  {
   "cell_type": "code",
   "execution_count": 19,
   "metadata": {},
   "outputs": [],
   "source": [
    "eigvvv = None\n",
    "facee = None"
   ]
  },
  {
   "cell_type": "code",
   "execution_count": 20,
   "metadata": {},
   "outputs": [],
   "source": [
    "def reconstruct_face(C_FACES, target_image, cutoff):\n",
    "    global eigvvv\n",
    "    global facee\n",
    "\n",
    "    [h, w, n] = C_FACES.shape\n",
    "    d = h * w\n",
    "    x = np.reshape(C_FACES, (d, n), order=\"F\")\n",
    "    x = x.astype(float)\n",
    "    mean_matrix = x.mean(axis=1)\n",
    "\n",
    "    tiled_mean = np.tile(mean_matrix, (x.shape[1], 1))\n",
    "    tiled_mean = tiled_mean.T\n",
    "    Xtrain = x - tiled_mean\n",
    "    s = np.cov(Xtrain)\n",
    " \n",
    "    eigval, eigvec = np.linalg.eigh(s)\n",
    "\n",
    "    eigval[::-1].sort()\n",
    "    eigsum = eigval.sum(axis=0)\n",
    "    eigvec = np.fliplr(eigvec)\n",
    "\n",
    "    csum = 0\n",
    "    for i in range(0,d):\n",
    "        csum = csum + eigval[i]\n",
    "        tv = csum / eigsum\n",
    "        if tv > 0.95:\n",
    "            k95 = i\n",
    "            break\n",
    "\n",
    "    \n",
    "    FACE = yalefaces[:,:,target_image]\n",
    "    FACE_reshaped = np.reshape(FACE, (2016, 1), order=\"F\")\n",
    "    FACE_reshaped = FACE_reshaped.astype(float).transpose()\n",
    "    FACE_PROJECTED = np.dot(FACE_reshaped, eigvec)\n",
    "    FACE_PROJECTED[0][cutoff:] = 0\n",
    "    eigvvv = eigvec\n",
    "    facee = FACE_PROJECTED\n",
    "    FACE_RECONSTRUCTED = np.dot(FACE_PROJECTED, eigvec.transpose())\n",
    "    \n",
    "\n",
    "    return FACE_RECONSTRUCTED, eigvec, eigval, k95\n",
    "\n"
   ]
  },
  {
   "cell_type": "code",
   "execution_count": 21,
   "metadata": {},
   "outputs": [],
   "source": [
    "# facee[0][100:] = 0"
   ]
  },
  {
   "cell_type": "code",
   "execution_count": 22,
   "metadata": {},
   "outputs": [],
   "source": [
    "# facee[0][:100]"
   ]
  },
  {
   "cell_type": "code",
   "execution_count": 23,
   "metadata": {},
   "outputs": [],
   "source": [
    "# (facee @ eigvvv.T).shape"
   ]
  },
  {
   "cell_type": "code",
   "execution_count": 25,
   "metadata": {},
   "outputs": [],
   "source": [
    "# plt.imshow(np.reshape((facee @ eigvvv.T), (48, 42), order=\"F\"))"
   ]
  },
  {
   "cell_type": "code",
   "execution_count": null,
   "metadata": {},
   "outputs": [],
   "source": [
    "    # FACE = yalefaces[:,:,target_image]\n",
    "    # FACE_reshaped = np.reshape(FACE, (1, 2016), order=\"F\")\n",
    "    # FACE_PROJECTED = np.matmul(FACE_reshaped, eigvec)\n",
    "    # FACE_PROJECTED[cutoff-1:] = 0\n",
    "\n",
    "    # FACE_RECONSTRUCTED = np.dot(FACE_PROJECTED, eigvec.transpose())\n",
    "\n",
    "    # return FACE_RECONSTRUCTED, eigvec, eigval, k95"
   ]
  },
  {
   "cell_type": "code",
   "execution_count": 26,
   "metadata": {},
   "outputs": [],
   "source": [
    "RF_cmt = np.empty(shape=(10,2016))\n",
    "RF_cmt.fill(0)\n",
    "\n",
    "RF_cm1 = np.empty(shape=(10,2016))\n",
    "RF_cm1.fill(0)"
   ]
  },
  {
   "cell_type": "code",
   "execution_count": 27,
   "metadata": {},
   "outputs": [],
   "source": [
    "initial_target_dRFs = np.empty(shape=(10,2))\n",
    "initial_target_dRFs.fill(0)\n",
    "\n",
    "initial_excluded_dRFs = np.empty(shape=(10,2))\n",
    "initial_excluded_dRFs.fill(0)"
   ]
  },
  {
   "cell_type": "code",
   "execution_count": 28,
   "metadata": {},
   "outputs": [
    {
     "data": {
      "text/plain": [
       "array([[  0,   0,  63,   1,   5],\n",
       "       [  1,  64, 127,   2,   5],\n",
       "       [  2, 128, 191,   1,   5],\n",
       "       [  3, 192, 255,   1,   5],\n",
       "       [  4, 256, 319,   2,   6]])"
      ]
     },
     "execution_count": 28,
     "metadata": {},
     "output_type": "execute_result"
    }
   ],
   "source": [
    "ufaces[:5]"
   ]
  },
  {
   "cell_type": "code",
   "execution_count": 29,
   "metadata": {},
   "outputs": [
    {
     "name": "stdout",
     "output_type": "stream",
     "text": [
      "[76.49332396 83.15764556 80.19543004 87.75259834 87.0298223  86.78139044\n",
      " 88.42926113 88.77316605 88.57448172 88.5744817 ]\n",
      "[62.93830674 65.69101282 63.51834176 64.10649716 64.61238683 64.93379569\n",
      " 64.86872313 64.99709946 65.01687487 65.01687486]\n"
     ]
    }
   ],
   "source": [
    "for t in range(0,len(target_and_excluded)+1):\n",
    "    target_image = ufaces[target_and_excluded[:,t],1] #128 [Matlab 129]; 192 [Matlab 193]\n",
    "    C_minus_1_ind = np.where(np.logical_and(RR == 1, NN != initial_excluded_face)) #shape (1659,) array([   0,    1,    2, ..., 2411, 2412, 2413])\n",
    "    C_minus_T_ind = np.where(np.logical_and(RR == 1, NN != initial_target_person))\n",
    "\n",
    "    LIB_C_minus_T = yalefaces[:,:,C_minus_T_ind].squeeze()\n",
    "    LIB_C_minus_1 = yalefaces[:,:,C_minus_1_ind].squeeze()\n",
    "    [h, w, n] = LIB_C_minus_T.shape\n",
    "    cutoffs1 = np.arange(100,2001,50)\n",
    "\n",
    "    for f in range(0,len(cutoffs)): # f = 0-9\n",
    "        [RF_cmt[f,:], V_cmt, eigval_cmt, k95_cmt] = reconstruct_face(LIB_C_minus_T, target_image, cutoffs[f])\n",
    "        # V_cmt.shape == (2016, 2016)\n",
    "        # eigval_cmt.shape == (2016,)\n",
    "        [RF_cm1[f,:], V_cm1, eigval_cm1, k95_cm1] = reconstruct_face(LIB_C_minus_1, target_image, cutoffs[f])\n",
    "    target_image1 = yalefaces[:,:,target_image]\n",
    "    re_target_image = np.reshape(target_image1, (1,2016), order=\"F\" )\n",
    "    print(RF_cmt[:, 0])\n",
    "    for e in range(0,len(cutoffs)):\n",
    "        initial_target_dRFs[e,t] = abs(re_target_image - RF_cmt[e,:]).sum(axis=1)\n",
    "        initial_excluded_dRFs[e,t] = abs(re_target_image - RF_cm1[e,:]).sum(axis=1)"
   ]
  },
  {
   "cell_type": "code",
   "execution_count": 30,
   "metadata": {},
   "outputs": [
    {
     "data": {
      "text/plain": [
       "array([[18485.59415132,  7748.09662205],\n",
       "       [11104.92285878,  3749.85233898],\n",
       "       [ 8061.73208722,  2081.87217073],\n",
       "       [ 6425.48602735,  1394.02629083],\n",
       "       [ 4921.39802801,   929.23131605],\n",
       "       [ 3984.29421123,   681.13400634],\n",
       "       [ 3235.6660716 ,   423.81682736],\n",
       "       [ 2630.55744019,   155.85630523],\n",
       "       [ 1969.88073142,    56.49105128],\n",
       "       [ 1131.35723202,    32.64596688]])"
      ]
     },
     "execution_count": 30,
     "metadata": {},
     "output_type": "execute_result"
    }
   ],
   "source": [
    "# columns: 0: target 1: exluded face\n",
    "# rows: drf values for a face reconstructed with each cutoff - in subset minus target\n",
    "\n",
    "initial_target_dRFs"
   ]
  },
  {
   "cell_type": "code",
   "execution_count": 31,
   "metadata": {},
   "outputs": [
    {
     "data": {
      "text/plain": [
       "array([[10094.95051944, 11897.22488679],\n",
       "       [ 4944.6816939 ,  7659.5141589 ],\n",
       "       [ 2620.99158343,  5373.53077183],\n",
       "       [ 1658.67325907,  4207.69183004],\n",
       "       [ 1004.85491598,  3422.77398077],\n",
       "       [  643.35288489,  2801.36920244],\n",
       "       [  301.69847895,  2350.91393345],\n",
       "       [  120.1563909 ,  1877.26967865],\n",
       "       [   53.23328782,  1471.83168303],\n",
       "       [   29.49117272,   846.62872267]])"
      ]
     },
     "execution_count": 31,
     "metadata": {},
     "output_type": "execute_result"
    }
   ],
   "source": [
    "# columns: 0: target 1: exluded face\n",
    "# rows: drf values for a face reconstructed with each cutoff - in subset minus one face, target included\n",
    "\n",
    "initial_excluded_dRFs"
   ]
  },
  {
   "cell_type": "markdown",
   "metadata": {},
   "source": [
    "## DRF SG 2"
   ]
  },
  {
   "cell_type": "code",
   "execution_count": 32,
   "metadata": {},
   "outputs": [],
   "source": [
    "from numpy import sqrt\n",
    "from scipy.linalg import sqrtm\n",
    "from scipy.interpolate import interp1d\n",
    "from numpy import interp"
   ]
  },
  {
   "cell_type": "code",
   "execution_count": 33,
   "metadata": {},
   "outputs": [],
   "source": [
    "DRF_SUMMARY_2 = scipy.io.loadmat('DRF_SUMMARY_2.mat')"
   ]
  },
  {
   "cell_type": "code",
   "execution_count": 34,
   "metadata": {},
   "outputs": [],
   "source": [
    "initial_target_dRFs = DRF_SUMMARY_2['initial_target_dRFs']"
   ]
  },
  {
   "cell_type": "code",
   "execution_count": 35,
   "metadata": {},
   "outputs": [],
   "source": [
    "initial_excluded_dRFs = DRF_SUMMARY_2['initial_excluded_dRFs']"
   ]
  },
  {
   "cell_type": "code",
   "execution_count": 36,
   "metadata": {},
   "outputs": [],
   "source": [
    "targets = np.concatenate((initial_target_person, initial_excluded_face), axis=0)"
   ]
  },
  {
   "cell_type": "code",
   "execution_count": 37,
   "metadata": {},
   "outputs": [],
   "source": [
    "swap_targets = np.concatenate((initial_excluded_face, initial_target_person), axis=0)"
   ]
  },
  {
   "cell_type": "code",
   "execution_count": 38,
   "metadata": {},
   "outputs": [
    {
     "data": {
      "text/plain": [
       "array([2, 3], dtype=uint8)"
      ]
     },
     "execution_count": 38,
     "metadata": {},
     "output_type": "execute_result"
    }
   ],
   "source": [
    "targets"
   ]
  },
  {
   "cell_type": "code",
   "execution_count": 39,
   "metadata": {},
   "outputs": [],
   "source": [
    "cnt=0"
   ]
  },
  {
   "cell_type": "code",
   "execution_count": 40,
   "metadata": {},
   "outputs": [
    {
     "data": {
      "text/plain": [
       "array([[18506.31553326,  8034.87243843],\n",
       "       [11111.40223812,  3752.44438789],\n",
       "       [ 8067.72792531,  2082.42282987],\n",
       "       [ 6437.11457127,  1397.45517388],\n",
       "       [ 4927.15560026,   933.81214818],\n",
       "       [ 3985.70780176,   682.3540292 ],\n",
       "       [ 3241.82266952,   424.73344226],\n",
       "       [ 2640.73566391,   157.83893041],\n",
       "       [ 1947.34025367,    56.65207459],\n",
       "       [ 1152.58056404,    38.29260853]])"
      ]
     },
     "execution_count": 40,
     "metadata": {},
     "output_type": "execute_result"
    }
   ],
   "source": [
    "initial_target_dRFs"
   ]
  },
  {
   "cell_type": "code",
   "execution_count": 41,
   "metadata": {},
   "outputs": [],
   "source": [
    "def find_matching_cutoff(CMT_inter, five_dRFs, cutoffs_fine):\n",
    "    temp_pairs_CMT = abs(CMT_inter-five_dRFs)\n",
    "    store_CMT_ind_pairs = np.argmin(temp_pairs_CMT)\n",
    "    return cutoffs_fine[store_CMT_ind_pairs]\n"
   ]
  },
  {
   "cell_type": "code",
   "execution_count": 61,
   "metadata": {},
   "outputs": [
    {
     "data": {
      "image/png": "[encoded data removed]",
      "text/plain": [
       "<Figure size 432x288 with 1 Axes>"
      ]
     },
     "metadata": {
      "needs_background": "light"
     },
     "output_type": "display_data"
    }
   ],
   "source": [
    "for f in range(0,len(targets)):\n",
    "    cutoffs_fine = np.arange(cutoffs[0],cutoffs[-1]+1,5) \n",
    "    COs_fine = cutoffs_fine.shape\n",
    "    d27 = initial_excluded_dRFs\n",
    "    d14 = initial_target_dRFs\n",
    "\n",
    "    d27 = sqrt(d27)\n",
    "    d14 = sqrt(d14)\n",
    "    CMT = np.array([d14[:,0], d27[:,1]])\n",
    "    CM1 = np.array([d27[:,0], d14[:,1]])\n",
    "    target = targets[t]\n",
    "    swap_target = swap_targets[t]\n",
    "\n",
    "    num = d27.shape[0]\n",
    "    First_label = f'F{target} (+{target} -{swap_target})'\n",
    "    Second_label = f'F{target} (+{target} -{swap_target})'\n",
    "    \n",
    "    CMT_inter = interp1d(cutoffs,d14[:,t])(cutoffs_fine)\n",
    "    CM1_inter = interp1d(cutoffs,d27[:,t])(cutoffs_fine)\n",
    "    \n",
    "    CM1_inter_1 = interp1d(cutoffs,d27[:,0])(cutoffs_fine)\n",
    "    CM1_inter_2 = interp1d(cutoffs,d14[:,1])(cutoffs_fine)\n",
    "\n",
    "    CMT_inter_1 = interp1d(cutoffs,d14[:,0])(cutoffs_fine)\n",
    "    CMT_inter_2 = interp1d(cutoffs,d27[:,1])(cutoffs_fine)\n",
    "\n",
    "    CMT_inter = np.stack((CMT_inter_1,CMT_inter_2)) #2x361\n",
    "    CM1_inter = np.stack((CM1_inter_1, CM1_inter_2))\n",
    "\n",
    "    ref_CM1_drfs = np.stack((d27[:,0], d14[:,1]))\n",
    "    \n",
    "    five_CMT_cutoffs = np.zeros((1,5))\n",
    "    five_CM1_cutoffs = np.zeros((1,5))\n",
    "    store_CMT_ind = np.zeros((10))\n",
    "    store_CM1_cutoffs = np.zeros((10,1))\n",
    "\n",
    "\n",
    "    for i in range(num):\n",
    "        temp1 = abs(CMT_inter[t,:] - CM1[t,i])\n",
    "        store_CMT_ind[i] = np.argmin(temp1)\n",
    "        store_CM1_cutoffs[i,:] = cutoffs[i]\n",
    "\n",
    "    CM1_cutoffs = store_CM1_cutoffs\n",
    "\n",
    "    CMT_cutoffs = cutoffs_fine[store_CMT_ind.astype(int)]\n",
    "    CMT_cutoffs = np.reshape(CMT_cutoffs,(num,1), order='F')\n",
    "\n",
    "    num_dRFs_pairs = 5\n",
    "    first_dRF      = CM1_inter[t,0]\n",
    "    last_dRF       = CMT_inter[t:]\n",
    "    five_dRFs      = np.linspace(first_dRF,last_dRF,num_dRFs_pairs)\n",
    "\n",
    "\n",
    "    EQd_CMT_COs = np.zeros((5))\n",
    "    EQd_CM1_COs = np.zeros((5))\n",
    "\n",
    "    for d in range(num_dRFs_pairs):\n",
    "        EQd_CMT_COs[d] = find_matching_cutoff(CMT_inter[t,:],five_dRFs[d],cutoffs_fine)\n",
    "        EQd_CM1_COs[d] = find_matching_cutoff(CM1_inter[t,:],five_dRFs[d],cutoffs_fine)\n",
    "\n",
    "    plt.plot(cutoffs_fine,CMT_inter[t,:])\n",
    "    plt.plot(cutoffs_fine,CM1_inter[t,:])\n",
    "\n",
    "\n"
   ]
  },
  {
   "cell_type": "code",
   "execution_count": 59,
   "metadata": {},
   "outputs": [
    {
     "data": {
      "text/plain": [
       "array([[ 89.63744998,  89.63744998,  89.63744998, ...,  89.63744998,\n",
       "         89.63744998,  89.63744998],\n",
       "       [ 94.50656531,  94.37179616,  94.23702701, ...,  74.88047152,\n",
       "         74.82925654,  74.77804155],\n",
       "       [ 99.37568064,  99.10614234,  98.83660404, ...,  60.12349306,\n",
       "         60.0210631 ,  59.91863313],\n",
       "       [104.24479597, 103.84048852, 103.43618107, ...,  45.36651461,\n",
       "         45.21286966,  45.0592247 ],\n",
       "       [109.11391131, 108.57483471, 108.03575811, ...,  30.60953615,\n",
       "         30.40467621,  30.19981628]])"
      ]
     },
     "execution_count": 59,
     "metadata": {},
     "output_type": "execute_result"
    }
   ],
   "source": [
    "five_dRFs.squeeze()"
   ]
  },
  {
   "cell_type": "code",
   "execution_count": 43,
   "metadata": {},
   "outputs": [
    {
     "data": {
      "text/plain": [
       "array([280., 280., 280., 280., 100.])"
      ]
     },
     "execution_count": 43,
     "metadata": {},
     "output_type": "execute_result"
    }
   ],
   "source": [
    "EQd_CMT_COs"
   ]
  },
  {
   "cell_type": "code",
   "execution_count": 44,
   "metadata": {},
   "outputs": [
    {
     "data": {
      "text/plain": [
       "array([100., 100., 100., 100., 100.])"
      ]
     },
     "execution_count": 44,
     "metadata": {},
     "output_type": "execute_result"
    }
   ],
   "source": [
    "EQd_CM1_COs"
   ]
  },
  {
   "cell_type": "code",
   "execution_count": 51,
   "metadata": {},
   "outputs": [
    {
     "data": {
      "text/plain": [
       "array([ 89.63744998,  94.50656531,  99.37568064, 104.24479597,\n",
       "       109.11391131])"
      ]
     },
     "execution_count": 51,
     "metadata": {},
     "output_type": "execute_result"
    }
   ],
   "source": [
    "five_dRFs[:, 0, 0]"
   ]
  },
  {
   "cell_type": "code",
   "execution_count": null,
   "metadata": {},
   "outputs": [],
   "source": []
  }
 ],
 "metadata": {
  "interpreter": {
   "hash": "0adcc2737ebf6a4a119f135174df96668767fca1ef1112612db5ecadf2b6d608"
  },
  "kernelspec": {
   "display_name": "Python 3.8.0 64-bit",
   "language": "python",
   "name": "python3"
  },
  "language_info": {
   "codemirror_mode": {
    "name": "ipython",
    "version": 3
   },
   "file_extension": ".py",
   "mimetype": "text/x-python",
   "name": "python",
   "nbconvert_exporter": "python",
   "pygments_lexer": "ipython3",
   "version": "3.8.0"
  },
  "orig_nbformat": 4
 },
 "nbformat": 4,
 "nbformat_minor": 2
}
